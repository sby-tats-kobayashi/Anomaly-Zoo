{
 "cells": [
  {
   "cell_type": "code",
   "execution_count": 19,
   "metadata": {
    "collapsed": true,
    "pycharm": {
     "name": "#%%\n"
    }
   },
   "outputs": [
    {
     "ename": "SyntaxError",
     "evalue": "(unicode error) 'unicodeescape' codec can't decode bytes in position 2-3: truncated \\UXXXXXXXX escape (1544676997.py, line 1)",
     "output_type": "error",
     "traceback": [
      "\u001B[1;36m  Cell \u001B[1;32mIn [19], line 1\u001B[1;36m\u001B[0m\n\u001B[1;33m    \"C:\\Users\\had-int22\".replace(\"\\\\\", \"\")\u001B[0m\n\u001B[1;37m                        ^\u001B[0m\n\u001B[1;31mSyntaxError\u001B[0m\u001B[1;31m:\u001B[0m (unicode error) 'unicodeescape' codec can't decode bytes in position 2-3: truncated \\UXXXXXXXX escape\n"
     ]
    }
   ],
   "source": []
  },
  {
   "cell_type": "code",
   "execution_count": 111,
   "outputs": [
    {
     "name": "stdout",
     "output_type": "stream",
     "text": [
      "\\\n"
     ]
    }
   ],
   "source": [
    "import os\n",
    "import pathlib\n",
    "import numpy as np\n",
    "import tensorflow as tf\n",
    "print(os.path.sep)"
   ],
   "metadata": {
    "collapsed": false,
    "pycharm": {
     "name": "#%%\n"
    }
   }
  },
  {
   "cell_type": "code",
   "execution_count": 64,
   "outputs": [
    {
     "name": "stdout",
     "output_type": "stream",
     "text": [
      "list_train_s count: 363 \n",
      " list_train_l count: 3266\n",
      "list_test_s count: 173 \n",
      " list_test_l count: 1552\n",
      "train count: 3629 , test count: 1725\n"
     ]
    }
   ],
   "source": [
    "# Get the list of file path of a train image in the data_dir.\n",
    "data_dir = \"../data/mvtec\"\n",
    "data_dir = pathlib.Path(data_dir)\n",
    "list_train = list(data_dir.glob(\"*/train/good/*.png\"))\n",
    "list_test = list(data_dir.glob(\"*/test/*/*.png\"))\n",
    "num_train = len(list_train)  # the number of train images.\n",
    "num_test = len(list_test)\n",
    "\n",
    "# Create train/test dataset. Each element in the dataset is path of image file.\n",
    "list_train_ds = tf.data.Dataset.list_files(str(data_dir/\"*/train/good/*.png\"), shuffle=False)\n",
    "list_test_ds = tf.data.Dataset.list_files(str(data_dir/\"*/test/*/*.png\"), shuffle=False)\n",
    "\n",
    "# Shuffle these dataset once.\n",
    "list_train_ds = list_train_ds.shuffle(buffer_size=num_train, reshuffle_each_iteration=False)\n",
    "list_test_ds = list_test_ds.shuffle(buffer_size=num_test, reshuffle_each_iteration=False)\n",
    "\n",
    "list_train_ds_s = list_train_ds.skip(int(0.9 * num_train))\n",
    "list_train_ds_l = list_train_ds.take(int(0.9 * num_train))\n",
    "list_test_ds_s = list_test_ds.skip(int(0.9 * num_test))\n",
    "list_test_ds_l = list_test_ds.take(int(0.9 * num_test))\n",
    "\n",
    "print(f\"list_train_s count: {list_train_ds_s.cardinality()} \\n list_train_l count: {list_train_ds_l.cardinality()}\")\n",
    "print(f\"list_test_s count: {list_test_ds_s.cardinality()} \\n list_test_l count: {list_test_ds_l.cardinality()}\")\n",
    "\n",
    "print(f\"train count: {num_train} , test count: {num_test}\")"
   ],
   "metadata": {
    "collapsed": false,
    "pycharm": {
     "name": "#%%\n"
    }
   }
  },
  {
   "cell_type": "code",
   "execution_count": 65,
   "outputs": [
    {
     "name": "stdout",
     "output_type": "stream",
     "text": [
      "fine_tune_ds: 536\n"
     ]
    }
   ],
   "source": [
    "train_ds = list_train_ds_l\n",
    "finetune_ds = list_train_ds_s.concatenate(list_test_ds_s)\n",
    "eval_ds = list_test_ds_l\n",
    "\n",
    "print(f\"fine_tune_ds: {finetune_ds.cardinality().numpy()}\")"
   ],
   "metadata": {
    "collapsed": false,
    "pycharm": {
     "name": "#%%\n"
    }
   }
  },
  {
   "cell_type": "code",
   "execution_count": 61,
   "outputs": [
    {
     "data": {
      "text/plain": "[WindowsPath('../data/mvtec/bottle'),\n WindowsPath('../data/mvtec/cable'),\n WindowsPath('../data/mvtec/capsule'),\n WindowsPath('../data/mvtec/carpet'),\n WindowsPath('../data/mvtec/grid'),\n WindowsPath('../data/mvtec/hazelnut'),\n WindowsPath('../data/mvtec/leather'),\n WindowsPath('../data/mvtec/metal_nut'),\n WindowsPath('../data/mvtec/pill'),\n WindowsPath('../data/mvtec/screw'),\n WindowsPath('../data/mvtec/tile'),\n WindowsPath('../data/mvtec/toothbrush'),\n WindowsPath('../data/mvtec/transistor'),\n WindowsPath('../data/mvtec/wood'),\n WindowsPath('../data/mvtec/zipper')]"
     },
     "execution_count": 61,
     "metadata": {},
     "output_type": "execute_result"
    }
   ],
   "source": [
    "class_names = [item for item in data_dir.glob(\"*\") if item.is_dir()]\n",
    "class_names"
   ],
   "metadata": {
    "collapsed": false,
    "pycharm": {
     "name": "#%%\n"
    }
   }
  },
  {
   "cell_type": "code",
   "execution_count": 72,
   "outputs": [
    {
     "ename": "TypeError",
     "evalue": "'TakeDataset' object is not an iterator",
     "output_type": "error",
     "traceback": [
      "\u001B[1;31m---------------------------------------------------------------------------\u001B[0m",
      "\u001B[1;31mTypeError\u001B[0m                                 Traceback (most recent call last)",
      "Cell \u001B[1;32mIn [72], line 1\u001B[0m\n\u001B[1;32m----> 1\u001B[0m parts \u001B[38;5;241m=\u001B[39m tf\u001B[38;5;241m.\u001B[39mstrings\u001B[38;5;241m.\u001B[39msplit(\u001B[38;5;28;43mnext\u001B[39;49m\u001B[43m(\u001B[49m\u001B[43mtrain_ds\u001B[49m\u001B[38;5;241;43m.\u001B[39;49m\u001B[43mtake\u001B[49m\u001B[43m(\u001B[49m\u001B[38;5;241;43m1\u001B[39;49m\u001B[43m)\u001B[49m\u001B[43m)\u001B[49m\u001B[38;5;241m.\u001B[39mnumpy(), os\u001B[38;5;241m.\u001B[39mpath\u001B[38;5;241m.\u001B[39msep)\n",
      "\u001B[1;31mTypeError\u001B[0m: 'TakeDataset' object is not an iterator"
     ]
    }
   ],
   "source": [
    "parts = tf.strings.split(next(train_ds.take(1)).numpy(), os.path.sep)"
   ],
   "metadata": {
    "collapsed": false,
    "pycharm": {
     "name": "#%%\n"
    }
   }
  },
  {
   "cell_type": "code",
   "execution_count": 89,
   "outputs": [
    {
     "data": {
      "text/plain": "[b'..\\\\data\\\\mvtec\\\\screw\\\\test\\\\good\\\\035.png',\n b'..\\\\data\\\\mvtec\\\\tile\\\\test\\\\crack\\\\000.png',\n b'..\\\\data\\\\mvtec\\\\hazelnut\\\\test\\\\cut\\\\013.png',\n b'..\\\\data\\\\mvtec\\\\metal_nut\\\\test\\\\bent\\\\002.png',\n b'..\\\\data\\\\mvtec\\\\screw\\\\test\\\\thread_side\\\\016.png']"
     },
     "execution_count": 89,
     "metadata": {},
     "output_type": "execute_result"
    }
   ],
   "source": [
    "file_path = list(train_ds.as_numpy_iterator())[:5]\n",
    "file_path"
   ],
   "metadata": {
    "collapsed": false,
    "pycharm": {
     "name": "#%%\n"
    }
   }
  },
  {
   "cell_type": "code",
   "execution_count": 114,
   "outputs": [
    {
     "name": "stdout",
     "output_type": "stream",
     "text": [
      "[b'good' b'crack' b'cut' b'bent' b'thread_side']\n"
     ]
    },
    {
     "data": {
      "text/plain": "(5, 1)"
     },
     "execution_count": 114,
     "metadata": {},
     "output_type": "execute_result"
    }
   ],
   "source": [
    "file_path = list(train_ds.as_numpy_iterator())[:5]\n",
    "parts = tf.strings.split(file_path, os.path.sep)\n",
    "sub_dir = parts[:, -2:-1].numpy()\n",
    "print(sub_dir.squeeze())\n",
    "# for part in parts:\n",
    "#     print(part.numpy())\n",
    "label = (sub_dir == b'good').astype(np.int32)\n",
    "label.shape"
   ],
   "metadata": {
    "collapsed": false,
    "pycharm": {
     "name": "#%%\n"
    }
   }
  },
  {
   "cell_type": "code",
   "execution_count": 121,
   "outputs": [
    {
     "data": {
      "text/plain": "b'..\\\\data\\\\mvtec\\\\tile\\\\test\\\\crack\\\\000.png'"
     },
     "execution_count": 121,
     "metadata": {},
     "output_type": "execute_result"
    }
   ],
   "source": [
    "file_path = list(train_ds.as_numpy_iterator())[1]\n",
    "file_path"
   ],
   "metadata": {
    "collapsed": false,
    "pycharm": {
     "name": "#%%\n"
    }
   }
  },
  {
   "cell_type": "code",
   "execution_count": 122,
   "outputs": [
    {
     "data": {
      "text/plain": "0"
     },
     "execution_count": 122,
     "metadata": {},
     "output_type": "execute_result"
    }
   ],
   "source": [
    "def get_label(file_path):\n",
    "    parts = tf.strings.split(file_path, os.path.sep)\n",
    "    label = int(parts[-2] == b'good')\n",
    "    return label\n",
    "get_label(file_path)"
   ],
   "metadata": {
    "collapsed": false,
    "pycharm": {
     "name": "#%%\n"
    }
   }
  },
  {
   "cell_type": "code",
   "execution_count": null,
   "outputs": [],
   "source": [],
   "metadata": {
    "collapsed": false,
    "pycharm": {
     "name": "#%%\n"
    }
   }
  }
 ],
 "metadata": {
  "kernelspec": {
   "display_name": "Python 3",
   "language": "python",
   "name": "python3"
  },
  "language_info": {
   "codemirror_mode": {
    "name": "ipython",
    "version": 2
   },
   "file_extension": ".py",
   "mimetype": "text/x-python",
   "name": "python",
   "nbconvert_exporter": "python",
   "pygments_lexer": "ipython2",
   "version": "2.7.6"
  }
 },
 "nbformat": 4,
 "nbformat_minor": 0
}